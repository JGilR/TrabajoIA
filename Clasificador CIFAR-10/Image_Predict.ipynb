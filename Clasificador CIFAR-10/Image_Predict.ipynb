{
 "cells": [
  {
   "cell_type": "markdown",
   "metadata": {},
   "source": [
    "# Predicción imágen de CIFAR-10\n",
    "## 1 - Librerias\n",
    "Importaremos las mismas librerias que antes pero esta vez añadiendo *cv2* para poder editar la imágen de salida."
   ]
  },
  {
   "cell_type": "code",
   "execution_count": 1,
   "metadata": {},
   "outputs": [
    {
     "name": "stderr",
     "output_type": "stream",
     "text": [
      "Using TensorFlow backend.\n"
     ]
    }
   ],
   "source": [
    "import numpy as np\n",
    "import matplotlib.pyplot as plt\n",
    "import cv2\n",
    "\n",
    "from keras.datasets import cifar10\n",
    "from keras.models import Sequential\n",
    "from keras.layers.convolutional import Conv2D, MaxPooling2D\n",
    "from keras.layers import Flatten, Dense, Dropout\n",
    "from keras.constraints import maxnorm\n",
    "from keras.optimizers import SGD\n",
    "from keras.utils import np_utils\n",
    "from keras.models import load_model\n",
    "import random\n",
    "num = random.randint(0,60)\n",
    "np.random.seed(num)\n",
    "\n",
    "img_row, img_height, img_depth = 32, 32, 3"
   ]
  },
  {
   "cell_type": "markdown",
   "metadata": {},
   "source": [
    "## 2 - Entrenamiento de los datos\n",
    "Creamos de nuevos los sets de entrenamiento y de validación. Además inicializamos la variable color a True y ponemos 8 de escala para la imágen de salida."
   ]
  },
  {
   "cell_type": "code",
   "execution_count": 2,
   "metadata": {},
   "outputs": [],
   "source": [
    "(x_train,y_train), (x_test,y_test) = cifar10.load_data()\n",
    "color = True\n",
    "scale = 8"
   ]
  },
  {
   "cell_type": "markdown",
   "metadata": {},
   "source": [
    "Cargamos las imágenes del cifar-10."
   ]
  },
  {
   "cell_type": "code",
   "execution_count": 3,
   "metadata": {},
   "outputs": [],
   "source": [
    "classifier = load_model('/home/jgil/Pictures/cifar_simple_cnn.h5')"
   ]
  },
  {
   "cell_type": "markdown",
   "metadata": {},
   "source": [
    "## 3 - Creamos el test\n",
    "Vamos a definir un test para dibujar la imágen y la predicción."
   ]
  },
  {
   "cell_type": "code",
   "execution_count": 4,
   "metadata": {},
   "outputs": [],
   "source": [
    "def draw_test(name, res, input_im, scale, img_row, img_height):\n",
    "    BLACK = [0,0,0]\n",
    "    res = int(res)\n",
    "    if res == 0:\n",
    "        pred = \"avion\"\n",
    "    if res == 1:\n",
    "        pred = \"coche\"\n",
    "    if res == 2:\n",
    "        pred = \"pajaro\"\n",
    "    if res == 3:\n",
    "        pred = \"gato\"\n",
    "    if res == 4:\n",
    "        pred = \"ciervo\"\n",
    "    if res == 5:\n",
    "        pred = \"perro\"\n",
    "    if res == 6:\n",
    "        pred = \"rana\"\n",
    "    if res == 7:\n",
    "        pred = \"caballo\"\n",
    "    if res == 8:\n",
    "        pred = \"barco\"\n",
    "    if res == 9:\n",
    "        pred = \"camion\"\n",
    "        \n",
    "    expanded_image = cv2.copyMakeBorder(input_im, 0, 0, 0, imageL.shape[0]*2, cv2.BORDER_CONSTANT,value=BLACK)\n",
    "    \n",
    "    if color == False:\n",
    "        expanded_image = cv2.cvtColor(expanded_image, cv2.COLOR_GRAY2BGR)\n",
    "    cv2.putText(expanded_image, str(pred), (300, 130) , cv2.FONT_HERSHEY_SIMPLEX,4, (51,255,255), 5)\n",
    "    cv2.imshow(name, expanded_image)\n"
   ]
  },
  {
   "cell_type": "markdown",
   "metadata": {},
   "source": [
    "Buscando en internet encontré este test para imprimir una imágen del cifar-10, creamos las condiciones para la predicción y editamos la imágen de salida, como el borde *cv2.copyMakeBorder*, el color *cv2.ctvColor*, el texto *cv2.putText* y por último mostramos la imágen *cv2.imshow*."
   ]
  },
  {
   "cell_type": "code",
   "execution_count": null,
   "metadata": {},
   "outputs": [
    {
     "name": "stdout",
     "output_type": "stream",
     "text": [
      "prediccion: 8 \n"
     ]
    }
   ],
   "source": [
    "for i in range(0,10):\n",
    "    rand = np.random.randint(0,len(x_test))\n",
    "    input_im = x_test[rand]\n",
    "\n",
    "    imageL = cv2.resize(input_im, None, fx=scale, fy=scale, interpolation = cv2.INTER_CUBIC) \n",
    "\n",
    "    input_im = input_im.reshape(1,img_row, img_height, img_depth) \n",
    "\n",
    "## Prediccion\n",
    "res = str(classifier.predict_classes(input_im, 1, verbose = 0)[0])\n",
    "print(\"prediccion: {} \".format(res))\n",
    "    \n",
    "draw_test(\"Prediccion\", res, imageL, scale, img_row, img_height) \n",
    "cv2.waitKey(0)"
   ]
  },
  {
   "cell_type": "markdown",
   "metadata": {},
   "source": [
    "Por último realizamos la predicción. Creamos un bucle que se repite para cada uno de nuestros casos, que la imágen sea perro, gato, caballo, coche, barco... \n",
    "Y al final imprimimos por pantalla la predicción."
   ]
  }
 ],
 "metadata": {
  "kernelspec": {
   "display_name": "Python 3",
   "language": "python",
   "name": "python3"
  },
  "language_info": {
   "codemirror_mode": {
    "name": "ipython",
    "version": 3
   },
   "file_extension": ".py",
   "mimetype": "text/x-python",
   "name": "python",
   "nbconvert_exporter": "python",
   "pygments_lexer": "ipython3",
   "version": "3.6.9"
  }
 },
 "nbformat": 4,
 "nbformat_minor": 4
}
